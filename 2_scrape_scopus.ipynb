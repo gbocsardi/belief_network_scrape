{
 "cells": [
  {
   "cell_type": "code",
   "execution_count": 73,
   "metadata": {},
   "outputs": [],
   "source": [
    "import pandas as pd\n",
    "from pybliometrics.scopus import AbstractRetrieval\n",
    "from tqdm import tqdm\n",
    "import time"
   ]
  },
  {
   "cell_type": "code",
   "execution_count": 51,
   "metadata": {},
   "outputs": [
    {
     "data": {
      "text/plain": [
       "[Area(area='Economics and Econometrics', abbreviation='ECON', code=2002)]"
      ]
     },
     "execution_count": 51,
     "metadata": {},
     "output_type": "execute_result"
    }
   ],
   "source": [
    "doc = AbstractRetrieval(\"10.3982/ECTA16566\", view='FULL')\n",
    "doc.subject_areas          "
   ]
  },
  {
   "cell_type": "code",
   "execution_count": 81,
   "metadata": {},
   "outputs": [],
   "source": [
    "def get_paper_info(identifier):\n",
    "    try:\n",
    "        doc = AbstractRetrieval(identifier, view='FULL')\n",
    "    except Exception as e:\n",
    "        # Handle the error, possibly logging it or notifying the user\n",
    "        return {'error': str(e)}\n",
    "\n",
    "    paper = {}\n",
    "    \n",
    "    # Check each property with getattr and provide a default value if not found\n",
    "    paper['doi'] = getattr(doc, 'doi', None)\n",
    "    paper['eid'] = getattr(doc, 'eid', None)\n",
    "    paper['title'] = getattr(doc, 'title', None)\n",
    "    paper['abstract'] = getattr(doc, 'abstract', None)\n",
    "    paper['description'] = getattr(doc, 'description', None)\n",
    "    \n",
    "    # Authors might be a list, so we need to check each entry\n",
    "    if hasattr(doc, 'authors') and doc.authors is not None:\n",
    "        paper['author_names'] = [getattr(author, 'indexed_name', None) for author in doc.authors]\n",
    "        paper['author_ids'] = [getattr(author, 'auid', None) for author in doc.authors]\n",
    "    else:\n",
    "        paper['author_names'] = []\n",
    "        paper['author_ids'] = []\n",
    "    \n",
    "    # References might be a list, so we need to check each entry\n",
    "    if hasattr(doc, 'references') and doc.references is not None:\n",
    "        paper['references'] = [f\"2-s2.0-{getattr(ref, 'id', None)}\" for ref in doc.references]\n",
    "    else:\n",
    "        paper['references'] = []\n",
    "\n",
    "    paper['cited_by'] = getattr(doc, 'citedby_count', 0)\n",
    "    \n",
    "    # Subject areas might be a list, so we need to check each entry\n",
    "    if hasattr(doc, 'subject_areas') and doc.subject_areas is not None:\n",
    "        paper['areas'] = [getattr(area, 'area', None) for area in doc.subject_areas]\n",
    "    else:\n",
    "        paper['areas'] = []\n",
    "\n",
    "    return paper\n",
    "\n",
    "\n",
    "\n",
    "def build_edge_list(df):\n",
    "    # Initialize an empty list to store the edge tuples\n",
    "    edges = []\n",
    "\n",
    "    # Iterate over the DataFrame\n",
    "    for index, row in df.iterrows():\n",
    "        source = row['eid']\n",
    "        # Extract the targets from the references column\n",
    "        targets = row['references']\n",
    "        # Create a tuple (source, target) for each target and append to the list\n",
    "        edges.extend([(source, target) for target in targets])\n",
    "\n",
    "    # Create a new DataFrame from the list of tuples\n",
    "    edge_list_df = pd.DataFrame(edges, columns=['Source', 'Target'])\n",
    "    \n",
    "    return edge_list_df"
   ]
  },
  {
   "cell_type": "code",
   "execution_count": 82,
   "metadata": {},
   "outputs": [
    {
     "data": {
      "text/html": [
       "<div>\n",
       "<style scoped>\n",
       "    .dataframe tbody tr th:only-of-type {\n",
       "        vertical-align: middle;\n",
       "    }\n",
       "\n",
       "    .dataframe tbody tr th {\n",
       "        vertical-align: top;\n",
       "    }\n",
       "\n",
       "    .dataframe thead th {\n",
       "        text-align: right;\n",
       "    }\n",
       "</style>\n",
       "<table border=\"1\" class=\"dataframe\">\n",
       "  <thead>\n",
       "    <tr style=\"text-align: right;\">\n",
       "      <th></th>\n",
       "      <th>Source</th>\n",
       "      <th>Target</th>\n",
       "    </tr>\n",
       "  </thead>\n",
       "  <tbody>\n",
       "    <tr>\n",
       "      <th>0</th>\n",
       "      <td>2-s2.0-85069045573</td>\n",
       "      <td>2-s2.0-84884417725</td>\n",
       "    </tr>\n",
       "    <tr>\n",
       "      <th>1</th>\n",
       "      <td>2-s2.0-85069045573</td>\n",
       "      <td>2-s2.0-84926199736</td>\n",
       "    </tr>\n",
       "    <tr>\n",
       "      <th>2</th>\n",
       "      <td>2-s2.0-85069045573</td>\n",
       "      <td>2-s2.0-85069750760</td>\n",
       "    </tr>\n",
       "    <tr>\n",
       "      <th>3</th>\n",
       "      <td>2-s2.0-85069045573</td>\n",
       "      <td>2-s2.0-85069675535</td>\n",
       "    </tr>\n",
       "    <tr>\n",
       "      <th>4</th>\n",
       "      <td>2-s2.0-85069045573</td>\n",
       "      <td>2-s2.0-2942746458</td>\n",
       "    </tr>\n",
       "    <tr>\n",
       "      <th>...</th>\n",
       "      <td>...</td>\n",
       "      <td>...</td>\n",
       "    </tr>\n",
       "    <tr>\n",
       "      <th>100</th>\n",
       "      <td>2-s2.0-85069045573</td>\n",
       "      <td>2-s2.0-0003732362</td>\n",
       "    </tr>\n",
       "    <tr>\n",
       "      <th>101</th>\n",
       "      <td>2-s2.0-85069045573</td>\n",
       "      <td>2-s2.0-0022726760</td>\n",
       "    </tr>\n",
       "    <tr>\n",
       "      <th>102</th>\n",
       "      <td>2-s2.0-85069045573</td>\n",
       "      <td>2-s2.0-67650844521</td>\n",
       "    </tr>\n",
       "    <tr>\n",
       "      <th>103</th>\n",
       "      <td>2-s2.0-85069045573</td>\n",
       "      <td>2-s2.0-85069690296</td>\n",
       "    </tr>\n",
       "    <tr>\n",
       "      <th>104</th>\n",
       "      <td>2-s2.0-85069045573</td>\n",
       "      <td>2-s2.0-34548536008</td>\n",
       "    </tr>\n",
       "  </tbody>\n",
       "</table>\n",
       "<p>105 rows × 2 columns</p>\n",
       "</div>"
      ],
      "text/plain": [
       "                 Source              Target\n",
       "0    2-s2.0-85069045573  2-s2.0-84884417725\n",
       "1    2-s2.0-85069045573  2-s2.0-84926199736\n",
       "2    2-s2.0-85069045573  2-s2.0-85069750760\n",
       "3    2-s2.0-85069045573  2-s2.0-85069675535\n",
       "4    2-s2.0-85069045573   2-s2.0-2942746458\n",
       "..                  ...                 ...\n",
       "100  2-s2.0-85069045573   2-s2.0-0003732362\n",
       "101  2-s2.0-85069045573   2-s2.0-0022726760\n",
       "102  2-s2.0-85069045573  2-s2.0-67650844521\n",
       "103  2-s2.0-85069045573  2-s2.0-85069690296\n",
       "104  2-s2.0-85069045573  2-s2.0-34548536008\n",
       "\n",
       "[105 rows x 2 columns]"
      ]
     },
     "execution_count": 82,
     "metadata": {},
     "output_type": "execute_result"
    }
   ],
   "source": [
    "df = pd.DataFrame([get_paper_info(\"10.3982/ECTA16566\")])\n",
    "\n",
    "\n",
    "edge_list_df = build_edge_list(df)\n",
    "\n",
    "edge_list_df"
   ]
  },
  {
   "cell_type": "code",
   "execution_count": 83,
   "metadata": {},
   "outputs": [
    {
     "name": "stderr",
     "output_type": "stream",
     "text": [
      "100%|██████████| 6359/6359 [41:54<00:00,  2.53it/s]  \n"
     ]
    }
   ],
   "source": [
    "nature_of_belief = pd.read_csv('data/nature_of_belief.csv').assign(seed_paper = 'nature_of_belief')\n",
    "structure_of_decision = pd.read_csv('data/structure_of_decision.csv').assign(seed_paper = 'structure_of_decision')\n",
    "\n",
    "papers = pd.concat([nature_of_belief, structure_of_decision], ignore_index=True)\n",
    "\n",
    "eid_list = papers[\"EID\"].tolist()\n",
    "\n",
    "paper_data = []\n",
    "\n",
    "for paper in tqdm(eid_list):\n",
    "    paper_data.append(get_paper_info(paper))\n",
    "    time.sleep(0.1)"
   ]
  },
  {
   "cell_type": "code",
   "execution_count": 84,
   "metadata": {},
   "outputs": [],
   "source": [
    "paper_details = pd.DataFrame(paper_data)\n",
    "\n",
    "paper_details.to_csv('data/paper_details.csv', index=False)"
   ]
  },
  {
   "cell_type": "code",
   "execution_count": 87,
   "metadata": {},
   "outputs": [],
   "source": [
    "paper_details.to_csv('data/node_covars.csv', index=False)\n",
    "\n",
    "edge_list_df = build_edge_list(df)\n",
    "edge_list_df.to_csv('data/edge_list.csv', index=False)"
   ]
  },
  {
   "cell_type": "code",
   "execution_count": null,
   "metadata": {},
   "outputs": [],
   "source": []
  }
 ],
 "metadata": {
  "kernelspec": {
   "display_name": "scopus_scrape",
   "language": "python",
   "name": "python3"
  },
  "language_info": {
   "codemirror_mode": {
    "name": "ipython",
    "version": 3
   },
   "file_extension": ".py",
   "mimetype": "text/x-python",
   "name": "python",
   "nbconvert_exporter": "python",
   "pygments_lexer": "ipython3",
   "version": "3.10.13"
  }
 },
 "nbformat": 4,
 "nbformat_minor": 2
}
